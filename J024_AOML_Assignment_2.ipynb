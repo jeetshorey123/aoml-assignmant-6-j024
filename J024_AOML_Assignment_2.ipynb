{
  "nbformat": 4,
  "nbformat_minor": 0,
  "metadata": {
    "colab": {
      "provenance": []
    },
    "kernelspec": {
      "name": "python3",
      "display_name": "Python 3"
    },
    "language_info": {
      "name": "python"
    }
  },
  "cells": [
    {
      "cell_type": "code",
      "execution_count": 16,
      "metadata": {
        "id": "pMt67KTWVoeU"
      },
      "outputs": [],
      "source": [
        "import numpy as np\n",
        "import pandas as pd\n",
        "import matplotlib.pyplot as plt\n",
        "import seaborn as sns\n",
        "\n",
        "from sklearn.model_selection import train_test_split\n",
        "from sklearn.preprocessing import StandardScaler\n",
        "from sklearn.ensemble import RandomForestClassifier\n",
        "from sklearn.metrics import classification_report, confusion_matrix\n"
      ]
    },
    {
      "cell_type": "code",
      "source": [
        "df= pd.read_csv(\"StarClassificationDS.csv\")\n",
        "df.head()\n"
      ],
      "metadata": {
        "colab": {
          "base_uri": "https://localhost:8080/",
          "height": 261
        },
        "id": "X79ddLDtVziV",
        "outputId": "b0aea2f1-3717-4a93-c02d-6eaa56a1f38c"
      },
      "execution_count": 17,
      "outputs": [
        {
          "output_type": "stream",
          "name": "stderr",
          "text": [
            "<ipython-input-17-4373adac7b3a>:1: DtypeWarning: Columns (1,8) have mixed types. Specify dtype option on import or set low_memory=False.\n",
            "  df= pd.read_csv(\"StarClassificationDS.csv\")\n"
          ]
        },
        {
          "output_type": "execute_result",
          "data": {
            "text/plain": [
              "      object_ID        alpha      delta  UV_filter  green_filter  red_filter  \\\n",
              "0  1.240000e+18  135.6891066  32.494632   23.87882      22.27530    20.39501   \n",
              "1  1.240000e+18  144.8261006  31.274185   24.77759      22.83188    22.58444   \n",
              "2  1.240000e+18  142.1887896  35.582444   25.26307      22.66389    20.60976   \n",
              "3  1.240000e+18  338.7410378  -0.402828   22.13682      23.77656    21.61162   \n",
              "4  1.240000e+18  345.2825932  21.183866   19.43718      17.58028    16.49747   \n",
              "\n",
              "   near_IR_filter  IR_filter run_ID  rerun_ID  cam_col  field_ID  \\\n",
              "0        19.16573   18.79371   3606       301        2        79   \n",
              "1        21.16812   21.61427   4518       301        5       119   \n",
              "2        19.34857   18.94827   3606       301        2       120   \n",
              "3        20.50454   19.25010   4192       301        3       214   \n",
              "4        15.97711   15.54461    NaN       301        3       137   \n",
              "\n",
              "    spec_obj_ID  red_shift  plate_ID    MJD  fiber_ID   class  \n",
              "0  6.540000e+18   0.634794      5812  56354       171  GALAXY  \n",
              "1  1.180000e+19   0.779136     10445  58158       427  GALAXY  \n",
              "2  5.150000e+18   0.644195      4576  55592       299  GALAXY  \n",
              "3  1.030000e+19   0.932346      9149  58039       775  GALAXY  \n",
              "4  6.890000e+18   0.116123      6121  56187       842  GALAXY  "
            ],
            "text/html": [
              "\n",
              "  <div id=\"df-8167837c-749c-4a06-9c9c-2769eba8a181\" class=\"colab-df-container\">\n",
              "    <div>\n",
              "<style scoped>\n",
              "    .dataframe tbody tr th:only-of-type {\n",
              "        vertical-align: middle;\n",
              "    }\n",
              "\n",
              "    .dataframe tbody tr th {\n",
              "        vertical-align: top;\n",
              "    }\n",
              "\n",
              "    .dataframe thead th {\n",
              "        text-align: right;\n",
              "    }\n",
              "</style>\n",
              "<table border=\"1\" class=\"dataframe\">\n",
              "  <thead>\n",
              "    <tr style=\"text-align: right;\">\n",
              "      <th></th>\n",
              "      <th>object_ID</th>\n",
              "      <th>alpha</th>\n",
              "      <th>delta</th>\n",
              "      <th>UV_filter</th>\n",
              "      <th>green_filter</th>\n",
              "      <th>red_filter</th>\n",
              "      <th>near_IR_filter</th>\n",
              "      <th>IR_filter</th>\n",
              "      <th>run_ID</th>\n",
              "      <th>rerun_ID</th>\n",
              "      <th>cam_col</th>\n",
              "      <th>field_ID</th>\n",
              "      <th>spec_obj_ID</th>\n",
              "      <th>red_shift</th>\n",
              "      <th>plate_ID</th>\n",
              "      <th>MJD</th>\n",
              "      <th>fiber_ID</th>\n",
              "      <th>class</th>\n",
              "    </tr>\n",
              "  </thead>\n",
              "  <tbody>\n",
              "    <tr>\n",
              "      <th>0</th>\n",
              "      <td>1.240000e+18</td>\n",
              "      <td>135.6891066</td>\n",
              "      <td>32.494632</td>\n",
              "      <td>23.87882</td>\n",
              "      <td>22.27530</td>\n",
              "      <td>20.39501</td>\n",
              "      <td>19.16573</td>\n",
              "      <td>18.79371</td>\n",
              "      <td>3606</td>\n",
              "      <td>301</td>\n",
              "      <td>2</td>\n",
              "      <td>79</td>\n",
              "      <td>6.540000e+18</td>\n",
              "      <td>0.634794</td>\n",
              "      <td>5812</td>\n",
              "      <td>56354</td>\n",
              "      <td>171</td>\n",
              "      <td>GALAXY</td>\n",
              "    </tr>\n",
              "    <tr>\n",
              "      <th>1</th>\n",
              "      <td>1.240000e+18</td>\n",
              "      <td>144.8261006</td>\n",
              "      <td>31.274185</td>\n",
              "      <td>24.77759</td>\n",
              "      <td>22.83188</td>\n",
              "      <td>22.58444</td>\n",
              "      <td>21.16812</td>\n",
              "      <td>21.61427</td>\n",
              "      <td>4518</td>\n",
              "      <td>301</td>\n",
              "      <td>5</td>\n",
              "      <td>119</td>\n",
              "      <td>1.180000e+19</td>\n",
              "      <td>0.779136</td>\n",
              "      <td>10445</td>\n",
              "      <td>58158</td>\n",
              "      <td>427</td>\n",
              "      <td>GALAXY</td>\n",
              "    </tr>\n",
              "    <tr>\n",
              "      <th>2</th>\n",
              "      <td>1.240000e+18</td>\n",
              "      <td>142.1887896</td>\n",
              "      <td>35.582444</td>\n",
              "      <td>25.26307</td>\n",
              "      <td>22.66389</td>\n",
              "      <td>20.60976</td>\n",
              "      <td>19.34857</td>\n",
              "      <td>18.94827</td>\n",
              "      <td>3606</td>\n",
              "      <td>301</td>\n",
              "      <td>2</td>\n",
              "      <td>120</td>\n",
              "      <td>5.150000e+18</td>\n",
              "      <td>0.644195</td>\n",
              "      <td>4576</td>\n",
              "      <td>55592</td>\n",
              "      <td>299</td>\n",
              "      <td>GALAXY</td>\n",
              "    </tr>\n",
              "    <tr>\n",
              "      <th>3</th>\n",
              "      <td>1.240000e+18</td>\n",
              "      <td>338.7410378</td>\n",
              "      <td>-0.402828</td>\n",
              "      <td>22.13682</td>\n",
              "      <td>23.77656</td>\n",
              "      <td>21.61162</td>\n",
              "      <td>20.50454</td>\n",
              "      <td>19.25010</td>\n",
              "      <td>4192</td>\n",
              "      <td>301</td>\n",
              "      <td>3</td>\n",
              "      <td>214</td>\n",
              "      <td>1.030000e+19</td>\n",
              "      <td>0.932346</td>\n",
              "      <td>9149</td>\n",
              "      <td>58039</td>\n",
              "      <td>775</td>\n",
              "      <td>GALAXY</td>\n",
              "    </tr>\n",
              "    <tr>\n",
              "      <th>4</th>\n",
              "      <td>1.240000e+18</td>\n",
              "      <td>345.2825932</td>\n",
              "      <td>21.183866</td>\n",
              "      <td>19.43718</td>\n",
              "      <td>17.58028</td>\n",
              "      <td>16.49747</td>\n",
              "      <td>15.97711</td>\n",
              "      <td>15.54461</td>\n",
              "      <td>NaN</td>\n",
              "      <td>301</td>\n",
              "      <td>3</td>\n",
              "      <td>137</td>\n",
              "      <td>6.890000e+18</td>\n",
              "      <td>0.116123</td>\n",
              "      <td>6121</td>\n",
              "      <td>56187</td>\n",
              "      <td>842</td>\n",
              "      <td>GALAXY</td>\n",
              "    </tr>\n",
              "  </tbody>\n",
              "</table>\n",
              "</div>\n",
              "    <div class=\"colab-df-buttons\">\n",
              "\n",
              "  <div class=\"colab-df-container\">\n",
              "    <button class=\"colab-df-convert\" onclick=\"convertToInteractive('df-8167837c-749c-4a06-9c9c-2769eba8a181')\"\n",
              "            title=\"Convert this dataframe to an interactive table.\"\n",
              "            style=\"display:none;\">\n",
              "\n",
              "  <svg xmlns=\"http://www.w3.org/2000/svg\" height=\"24px\" viewBox=\"0 -960 960 960\">\n",
              "    <path d=\"M120-120v-720h720v720H120Zm60-500h600v-160H180v160Zm220 220h160v-160H400v160Zm0 220h160v-160H400v160ZM180-400h160v-160H180v160Zm440 0h160v-160H620v160ZM180-180h160v-160H180v160Zm440 0h160v-160H620v160Z\"/>\n",
              "  </svg>\n",
              "    </button>\n",
              "\n",
              "  <style>\n",
              "    .colab-df-container {\n",
              "      display:flex;\n",
              "      gap: 12px;\n",
              "    }\n",
              "\n",
              "    .colab-df-convert {\n",
              "      background-color: #E8F0FE;\n",
              "      border: none;\n",
              "      border-radius: 50%;\n",
              "      cursor: pointer;\n",
              "      display: none;\n",
              "      fill: #1967D2;\n",
              "      height: 32px;\n",
              "      padding: 0 0 0 0;\n",
              "      width: 32px;\n",
              "    }\n",
              "\n",
              "    .colab-df-convert:hover {\n",
              "      background-color: #E2EBFA;\n",
              "      box-shadow: 0px 1px 2px rgba(60, 64, 67, 0.3), 0px 1px 3px 1px rgba(60, 64, 67, 0.15);\n",
              "      fill: #174EA6;\n",
              "    }\n",
              "\n",
              "    .colab-df-buttons div {\n",
              "      margin-bottom: 4px;\n",
              "    }\n",
              "\n",
              "    [theme=dark] .colab-df-convert {\n",
              "      background-color: #3B4455;\n",
              "      fill: #D2E3FC;\n",
              "    }\n",
              "\n",
              "    [theme=dark] .colab-df-convert:hover {\n",
              "      background-color: #434B5C;\n",
              "      box-shadow: 0px 1px 3px 1px rgba(0, 0, 0, 0.15);\n",
              "      filter: drop-shadow(0px 1px 2px rgba(0, 0, 0, 0.3));\n",
              "      fill: #FFFFFF;\n",
              "    }\n",
              "  </style>\n",
              "\n",
              "    <script>\n",
              "      const buttonEl =\n",
              "        document.querySelector('#df-8167837c-749c-4a06-9c9c-2769eba8a181 button.colab-df-convert');\n",
              "      buttonEl.style.display =\n",
              "        google.colab.kernel.accessAllowed ? 'block' : 'none';\n",
              "\n",
              "      async function convertToInteractive(key) {\n",
              "        const element = document.querySelector('#df-8167837c-749c-4a06-9c9c-2769eba8a181');\n",
              "        const dataTable =\n",
              "          await google.colab.kernel.invokeFunction('convertToInteractive',\n",
              "                                                    [key], {});\n",
              "        if (!dataTable) return;\n",
              "\n",
              "        const docLinkHtml = 'Like what you see? Visit the ' +\n",
              "          '<a target=\"_blank\" href=https://colab.research.google.com/notebooks/data_table.ipynb>data table notebook</a>'\n",
              "          + ' to learn more about interactive tables.';\n",
              "        element.innerHTML = '';\n",
              "        dataTable['output_type'] = 'display_data';\n",
              "        await google.colab.output.renderOutput(dataTable, element);\n",
              "        const docLink = document.createElement('div');\n",
              "        docLink.innerHTML = docLinkHtml;\n",
              "        element.appendChild(docLink);\n",
              "      }\n",
              "    </script>\n",
              "  </div>\n",
              "\n",
              "\n",
              "<div id=\"df-d4a7c66d-d82b-4c8a-b50c-353ca8fe05a5\">\n",
              "  <button class=\"colab-df-quickchart\" onclick=\"quickchart('df-d4a7c66d-d82b-4c8a-b50c-353ca8fe05a5')\"\n",
              "            title=\"Suggest charts\"\n",
              "            style=\"display:none;\">\n",
              "\n",
              "<svg xmlns=\"http://www.w3.org/2000/svg\" height=\"24px\"viewBox=\"0 0 24 24\"\n",
              "     width=\"24px\">\n",
              "    <g>\n",
              "        <path d=\"M19 3H5c-1.1 0-2 .9-2 2v14c0 1.1.9 2 2 2h14c1.1 0 2-.9 2-2V5c0-1.1-.9-2-2-2zM9 17H7v-7h2v7zm4 0h-2V7h2v10zm4 0h-2v-4h2v4z\"/>\n",
              "    </g>\n",
              "</svg>\n",
              "  </button>\n",
              "\n",
              "<style>\n",
              "  .colab-df-quickchart {\n",
              "      --bg-color: #E8F0FE;\n",
              "      --fill-color: #1967D2;\n",
              "      --hover-bg-color: #E2EBFA;\n",
              "      --hover-fill-color: #174EA6;\n",
              "      --disabled-fill-color: #AAA;\n",
              "      --disabled-bg-color: #DDD;\n",
              "  }\n",
              "\n",
              "  [theme=dark] .colab-df-quickchart {\n",
              "      --bg-color: #3B4455;\n",
              "      --fill-color: #D2E3FC;\n",
              "      --hover-bg-color: #434B5C;\n",
              "      --hover-fill-color: #FFFFFF;\n",
              "      --disabled-bg-color: #3B4455;\n",
              "      --disabled-fill-color: #666;\n",
              "  }\n",
              "\n",
              "  .colab-df-quickchart {\n",
              "    background-color: var(--bg-color);\n",
              "    border: none;\n",
              "    border-radius: 50%;\n",
              "    cursor: pointer;\n",
              "    display: none;\n",
              "    fill: var(--fill-color);\n",
              "    height: 32px;\n",
              "    padding: 0;\n",
              "    width: 32px;\n",
              "  }\n",
              "\n",
              "  .colab-df-quickchart:hover {\n",
              "    background-color: var(--hover-bg-color);\n",
              "    box-shadow: 0 1px 2px rgba(60, 64, 67, 0.3), 0 1px 3px 1px rgba(60, 64, 67, 0.15);\n",
              "    fill: var(--button-hover-fill-color);\n",
              "  }\n",
              "\n",
              "  .colab-df-quickchart-complete:disabled,\n",
              "  .colab-df-quickchart-complete:disabled:hover {\n",
              "    background-color: var(--disabled-bg-color);\n",
              "    fill: var(--disabled-fill-color);\n",
              "    box-shadow: none;\n",
              "  }\n",
              "\n",
              "  .colab-df-spinner {\n",
              "    border: 2px solid var(--fill-color);\n",
              "    border-color: transparent;\n",
              "    border-bottom-color: var(--fill-color);\n",
              "    animation:\n",
              "      spin 1s steps(1) infinite;\n",
              "  }\n",
              "\n",
              "  @keyframes spin {\n",
              "    0% {\n",
              "      border-color: transparent;\n",
              "      border-bottom-color: var(--fill-color);\n",
              "      border-left-color: var(--fill-color);\n",
              "    }\n",
              "    20% {\n",
              "      border-color: transparent;\n",
              "      border-left-color: var(--fill-color);\n",
              "      border-top-color: var(--fill-color);\n",
              "    }\n",
              "    30% {\n",
              "      border-color: transparent;\n",
              "      border-left-color: var(--fill-color);\n",
              "      border-top-color: var(--fill-color);\n",
              "      border-right-color: var(--fill-color);\n",
              "    }\n",
              "    40% {\n",
              "      border-color: transparent;\n",
              "      border-right-color: var(--fill-color);\n",
              "      border-top-color: var(--fill-color);\n",
              "    }\n",
              "    60% {\n",
              "      border-color: transparent;\n",
              "      border-right-color: var(--fill-color);\n",
              "    }\n",
              "    80% {\n",
              "      border-color: transparent;\n",
              "      border-right-color: var(--fill-color);\n",
              "      border-bottom-color: var(--fill-color);\n",
              "    }\n",
              "    90% {\n",
              "      border-color: transparent;\n",
              "      border-bottom-color: var(--fill-color);\n",
              "    }\n",
              "  }\n",
              "</style>\n",
              "\n",
              "  <script>\n",
              "    async function quickchart(key) {\n",
              "      const quickchartButtonEl =\n",
              "        document.querySelector('#' + key + ' button');\n",
              "      quickchartButtonEl.disabled = true;  // To prevent multiple clicks.\n",
              "      quickchartButtonEl.classList.add('colab-df-spinner');\n",
              "      try {\n",
              "        const charts = await google.colab.kernel.invokeFunction(\n",
              "            'suggestCharts', [key], {});\n",
              "      } catch (error) {\n",
              "        console.error('Error during call to suggestCharts:', error);\n",
              "      }\n",
              "      quickchartButtonEl.classList.remove('colab-df-spinner');\n",
              "      quickchartButtonEl.classList.add('colab-df-quickchart-complete');\n",
              "    }\n",
              "    (() => {\n",
              "      let quickchartButtonEl =\n",
              "        document.querySelector('#df-d4a7c66d-d82b-4c8a-b50c-353ca8fe05a5 button');\n",
              "      quickchartButtonEl.style.display =\n",
              "        google.colab.kernel.accessAllowed ? 'block' : 'none';\n",
              "    })();\n",
              "  </script>\n",
              "</div>\n",
              "\n",
              "    </div>\n",
              "  </div>\n"
            ],
            "application/vnd.google.colaboratory.intrinsic+json": {
              "type": "dataframe",
              "variable_name": "df",
              "summary": "{\n  \"name\": \"df\",\n  \"rows\": 100000,\n  \"fields\": [\n    {\n      \"column\": \"object_ID\",\n      \"properties\": {\n        \"dtype\": \"number\",\n        \"std\": 3020047.100273252,\n        \"min\": 1.24e+18,\n        \"max\": 1.24e+18,\n        \"num_unique_values\": 1,\n        \"samples\": [\n          1.24e+18\n        ],\n        \"semantic_type\": \"\",\n        \"description\": \"\"\n      }\n    },\n    {\n      \"column\": \"alpha\",\n      \"properties\": {\n        \"dtype\": \"string\",\n        \"num_unique_values\": 99996,\n        \"samples\": [\n          138.0912206\n        ],\n        \"semantic_type\": \"\",\n        \"description\": \"\"\n      }\n    },\n    {\n      \"column\": \"delta\",\n      \"properties\": {\n        \"dtype\": \"number\",\n        \"std\": 19.644479841186023,\n        \"min\": -18.78532808,\n        \"max\": 83.00051859,\n        \"num_unique_values\": 99997,\n        \"samples\": [\n          -2.118061332\n        ],\n        \"semantic_type\": \"\",\n        \"description\": \"\"\n      }\n    },\n    {\n      \"column\": \"UV_filter\",\n      \"properties\": {\n        \"dtype\": \"number\",\n        \"std\": 31.769290803750323,\n        \"min\": -9999.0,\n        \"max\": 32.78139,\n        \"num_unique_values\": 93748,\n        \"samples\": [\n          25.78018\n        ],\n        \"semantic_type\": \"\",\n        \"description\": \"\"\n      }\n    },\n    {\n      \"column\": \"green_filter\",\n      \"properties\": {\n        \"dtype\": \"number\",\n        \"std\": 31.750292329083205,\n        \"min\": -9999.0,\n        \"max\": 31.60224,\n        \"num_unique_values\": 92651,\n        \"samples\": [\n          20.88286\n        ],\n        \"semantic_type\": \"\",\n        \"description\": \"\"\n      }\n    },\n    {\n      \"column\": \"red_filter\",\n      \"properties\": {\n        \"dtype\": \"number\",\n        \"std\": 1.8547596943455276,\n        \"min\": 9.82207,\n        \"max\": 29.57186,\n        \"num_unique_values\": 91901,\n        \"samples\": [\n          17.36957\n        ],\n        \"semantic_type\": \"\",\n        \"description\": \"\"\n      }\n    },\n    {\n      \"column\": \"near_IR_filter\",\n      \"properties\": {\n        \"dtype\": \"number\",\n        \"std\": 1.7578947904903852,\n        \"min\": 9.469903,\n        \"max\": 32.14147,\n        \"num_unique_values\": 92019,\n        \"samples\": [\n          20.34415\n        ],\n        \"semantic_type\": \"\",\n        \"description\": \"\"\n      }\n    },\n    {\n      \"column\": \"IR_filter\",\n      \"properties\": {\n        \"dtype\": \"number\",\n        \"std\": 31.728151785953937,\n        \"min\": -9999.0,\n        \"max\": 29.38374,\n        \"num_unique_values\": 92007,\n        \"samples\": [\n          17.31985\n        ],\n        \"semantic_type\": \"\",\n        \"description\": \"\"\n      }\n    },\n    {\n      \"column\": \"run_ID\",\n      \"properties\": {\n        \"dtype\": \"category\",\n        \"num_unique_values\": 740,\n        \"samples\": [\n          \"1458\"\n        ],\n        \"semantic_type\": \"\",\n        \"description\": \"\"\n      }\n    },\n    {\n      \"column\": \"rerun_ID\",\n      \"properties\": {\n        \"dtype\": \"number\",\n        \"std\": 0,\n        \"min\": 301,\n        \"max\": 301,\n        \"num_unique_values\": 1,\n        \"samples\": [\n          301\n        ],\n        \"semantic_type\": \"\",\n        \"description\": \"\"\n      }\n    },\n    {\n      \"column\": \"cam_col\",\n      \"properties\": {\n        \"dtype\": \"number\",\n        \"std\": 1,\n        \"min\": 1,\n        \"max\": 6,\n        \"num_unique_values\": 6,\n        \"samples\": [\n          2\n        ],\n        \"semantic_type\": \"\",\n        \"description\": \"\"\n      }\n    },\n    {\n      \"column\": \"field_ID\",\n      \"properties\": {\n        \"dtype\": \"number\",\n        \"std\": 149,\n        \"min\": 11,\n        \"max\": 989,\n        \"num_unique_values\": 856,\n        \"samples\": [\n          706\n        ],\n        \"semantic_type\": \"\",\n        \"description\": \"\"\n      }\n    },\n    {\n      \"column\": \"spec_obj_ID\",\n      \"properties\": {\n        \"dtype\": \"number\",\n        \"std\": 3.3240070379505285e+18,\n        \"min\": 3e+17,\n        \"max\": 1.41e+19,\n        \"num_unique_values\": 1326,\n        \"samples\": [\n          4.78e+18\n        ],\n        \"semantic_type\": \"\",\n        \"description\": \"\"\n      }\n    },\n    {\n      \"column\": \"red_shift\",\n      \"properties\": {\n        \"dtype\": \"number\",\n        \"std\": 0.7307072761897662,\n        \"min\": -0.009970667,\n        \"max\": 7.011245,\n        \"num_unique_values\": 94677,\n        \"samples\": [\n          0.5760357\n        ],\n        \"semantic_type\": \"\",\n        \"description\": \"\"\n      }\n    },\n    {\n      \"column\": \"plate_ID\",\n      \"properties\": {\n        \"dtype\": \"number\",\n        \"std\": 2952,\n        \"min\": 266,\n        \"max\": 12547,\n        \"num_unique_values\": 6284,\n        \"samples\": [\n          2264\n        ],\n        \"semantic_type\": \"\",\n        \"description\": \"\"\n      }\n    },\n    {\n      \"column\": \"MJD\",\n      \"properties\": {\n        \"dtype\": \"number\",\n        \"std\": 1808,\n        \"min\": 51608,\n        \"max\": 58932,\n        \"num_unique_values\": 2180,\n        \"samples\": [\n          55332\n        ],\n        \"semantic_type\": \"\",\n        \"description\": \"\"\n      }\n    },\n    {\n      \"column\": \"fiber_ID\",\n      \"properties\": {\n        \"dtype\": \"number\",\n        \"std\": 272,\n        \"min\": 1,\n        \"max\": 1000,\n        \"num_unique_values\": 1000,\n        \"samples\": [\n          252\n        ],\n        \"semantic_type\": \"\",\n        \"description\": \"\"\n      }\n    },\n    {\n      \"column\": \"class\",\n      \"properties\": {\n        \"dtype\": \"category\",\n        \"num_unique_values\": 3,\n        \"samples\": [\n          \"GALAXY\"\n        ],\n        \"semantic_type\": \"\",\n        \"description\": \"\"\n      }\n    }\n  ]\n}"
            }
          },
          "metadata": {},
          "execution_count": 17
        }
      ]
    },
    {
      "cell_type": "code",
      "source": [
        "df.columns"
      ],
      "metadata": {
        "colab": {
          "base_uri": "https://localhost:8080/"
        },
        "id": "4GShMoHDXLU3",
        "outputId": "5e448e8c-18da-4648-f445-0ca3c26e89cf"
      },
      "execution_count": 18,
      "outputs": [
        {
          "output_type": "execute_result",
          "data": {
            "text/plain": [
              "Index(['object_ID', 'alpha', 'delta', 'UV_filter', 'green_filter',\n",
              "       'red_filter', 'near_IR_filter', 'IR_filter', 'run_ID', 'rerun_ID',\n",
              "       'cam_col', 'field_ID', 'spec_obj_ID', 'red_shift', 'plate_ID', 'MJD',\n",
              "       'fiber_ID', 'class'],\n",
              "      dtype='object')"
            ]
          },
          "metadata": {},
          "execution_count": 18
        }
      ]
    },
    {
      "cell_type": "code",
      "source": [
        "# Check dataset information\n",
        "df.info()\n",
        "\n",
        "# Check for missing values\n",
        "print(df.isnull().sum())\n",
        "\n",
        "# Check unique values in the target column\n",
        "print(df['class'].value_counts())\n"
      ],
      "metadata": {
        "colab": {
          "base_uri": "https://localhost:8080/"
        },
        "id": "_RMyRp1tWOPM",
        "outputId": "3bac2bd3-528b-46db-ae0e-543550abcbba"
      },
      "execution_count": 19,
      "outputs": [
        {
          "output_type": "stream",
          "name": "stdout",
          "text": [
            "<class 'pandas.core.frame.DataFrame'>\n",
            "RangeIndex: 100000 entries, 0 to 99999\n",
            "Data columns (total 18 columns):\n",
            " #   Column          Non-Null Count   Dtype  \n",
            "---  ------          --------------   -----  \n",
            " 0   object_ID       100000 non-null  float64\n",
            " 1   alpha           99999 non-null   object \n",
            " 2   delta           99998 non-null   float64\n",
            " 3   UV_filter       100000 non-null  float64\n",
            " 4   green_filter    100000 non-null  float64\n",
            " 5   red_filter      100000 non-null  float64\n",
            " 6   near_IR_filter  100000 non-null  float64\n",
            " 7   IR_filter       100000 non-null  float64\n",
            " 8   run_ID          99994 non-null   object \n",
            " 9   rerun_ID        100000 non-null  int64  \n",
            " 10  cam_col         100000 non-null  int64  \n",
            " 11  field_ID        100000 non-null  int64  \n",
            " 12  spec_obj_ID     100000 non-null  float64\n",
            " 13  red_shift       100000 non-null  float64\n",
            " 14  plate_ID        100000 non-null  int64  \n",
            " 15  MJD             100000 non-null  int64  \n",
            " 16  fiber_ID        100000 non-null  int64  \n",
            " 17  class           100000 non-null  object \n",
            "dtypes: float64(9), int64(6), object(3)\n",
            "memory usage: 13.7+ MB\n",
            "object_ID         0\n",
            "alpha             1\n",
            "delta             2\n",
            "UV_filter         0\n",
            "green_filter      0\n",
            "red_filter        0\n",
            "near_IR_filter    0\n",
            "IR_filter         0\n",
            "run_ID            6\n",
            "rerun_ID          0\n",
            "cam_col           0\n",
            "field_ID          0\n",
            "spec_obj_ID       0\n",
            "red_shift         0\n",
            "plate_ID          0\n",
            "MJD               0\n",
            "fiber_ID          0\n",
            "class             0\n",
            "dtype: int64\n",
            "class\n",
            "GALAXY    59445\n",
            "STAR      21594\n",
            "QSO       18961\n",
            "Name: count, dtype: int64\n"
          ]
        }
      ]
    },
    {
      "cell_type": "code",
      "source": [
        "# Drop non-informative columns\n",
        "X = df.drop(columns=['class', 'object_ID', 'spec_obj_ID', 'plate_ID', 'fiber_ID'])\n",
        "\n",
        "# Define the target variable\n",
        "y = df['class']\n"
      ],
      "metadata": {
        "id": "fpKGK8-0XEBB"
      },
      "execution_count": 20,
      "outputs": []
    },
    {
      "cell_type": "code",
      "source": [
        "# Check data types of all columns\n",
        "print(X.dtypes)\n"
      ],
      "metadata": {
        "colab": {
          "base_uri": "https://localhost:8080/"
        },
        "id": "sHQMxLT_Yj4q",
        "outputId": "243f17e2-428d-4b70-bda0-a5cae2f2f0d7"
      },
      "execution_count": 21,
      "outputs": [
        {
          "output_type": "stream",
          "name": "stdout",
          "text": [
            "alpha              object\n",
            "delta             float64\n",
            "UV_filter         float64\n",
            "green_filter      float64\n",
            "red_filter        float64\n",
            "near_IR_filter    float64\n",
            "IR_filter         float64\n",
            "run_ID             object\n",
            "rerun_ID            int64\n",
            "cam_col             int64\n",
            "field_ID            int64\n",
            "red_shift         float64\n",
            "MJD                 int64\n",
            "dtype: object\n"
          ]
        }
      ]
    },
    {
      "cell_type": "code",
      "source": [
        "# Identify columns that have mixed data types\n",
        "for col in X.columns:\n",
        "    unique_types = X[col].map(type).unique()\n",
        "    print(f\"Column '{col}' has data types: {unique_types}\")\n"
      ],
      "metadata": {
        "colab": {
          "base_uri": "https://localhost:8080/"
        },
        "id": "qV8dMns1Yo--",
        "outputId": "6ee93914-d109-42a7-d2ad-924aaedddf4a"
      },
      "execution_count": 22,
      "outputs": [
        {
          "output_type": "stream",
          "name": "stdout",
          "text": [
            "Column 'alpha' has data types: [<class 'str'> <class 'float'>]\n",
            "Column 'delta' has data types: [<class 'float'>]\n",
            "Column 'UV_filter' has data types: [<class 'float'>]\n",
            "Column 'green_filter' has data types: [<class 'float'>]\n",
            "Column 'red_filter' has data types: [<class 'float'>]\n",
            "Column 'near_IR_filter' has data types: [<class 'float'>]\n",
            "Column 'IR_filter' has data types: [<class 'float'>]\n",
            "Column 'run_ID' has data types: [<class 'str'> <class 'float'> <class 'int'>]\n",
            "Column 'rerun_ID' has data types: [<class 'int'>]\n",
            "Column 'cam_col' has data types: [<class 'int'>]\n",
            "Column 'field_ID' has data types: [<class 'int'>]\n",
            "Column 'red_shift' has data types: [<class 'float'>]\n",
            "Column 'MJD' has data types: [<class 'int'>]\n"
          ]
        }
      ]
    },
    {
      "cell_type": "code",
      "source": [
        "# Convert numeric columns to proper dtype\n",
        "for col in X.columns:\n",
        "    X[col] = pd.to_numeric(X[col], errors='coerce')  # Convert to float, replace errors with NaN\n",
        "\n",
        "# Fill NaN values after conversion\n",
        "X.fillna(X.mean(), inplace=True)\n"
      ],
      "metadata": {
        "id": "8VN6TwVMYpDV"
      },
      "execution_count": 23,
      "outputs": []
    },
    {
      "cell_type": "code",
      "source": [
        "from sklearn.preprocessing import LabelEncoder\n",
        "\n",
        "# Encode categorical columns (if any)\n",
        "for col in X.select_dtypes(include=['object']).columns:\n",
        "    X[col] = LabelEncoder().fit_transform(X[col])\n"
      ],
      "metadata": {
        "id": "DB48JQQPYpFN"
      },
      "execution_count": 24,
      "outputs": []
    },
    {
      "cell_type": "code",
      "source": [
        "# Now, apply StandardScaler safely\n",
        "scaler = StandardScaler()\n",
        "X_scaled = scaler.fit_transform(X)\n"
      ],
      "metadata": {
        "id": "yt82wOxOYpJe"
      },
      "execution_count": 25,
      "outputs": []
    },
    {
      "cell_type": "code",
      "source": [
        "# Perform stratified train-test split (80% train, 20% test)\n",
        "X_train, X_test, y_train, y_test = train_test_split(\n",
        "    X_scaled, y, test_size=0.2, stratify=y, random_state=42\n",
        ")\n",
        "\n",
        "# Verify class distribution in train and test sets\n",
        "print(y_train.value_counts(normalize=True))\n",
        "print(y_test.value_counts(normalize=True))\n"
      ],
      "metadata": {
        "colab": {
          "base_uri": "https://localhost:8080/"
        },
        "id": "cuT0NeZyYG4u",
        "outputId": "f9637732-62be-47f7-d0a0-7d1d1705fbb5"
      },
      "execution_count": 26,
      "outputs": [
        {
          "output_type": "stream",
          "name": "stdout",
          "text": [
            "class\n",
            "GALAXY    0.594450\n",
            "STAR      0.215938\n",
            "QSO       0.189612\n",
            "Name: proportion, dtype: float64\n",
            "class\n",
            "GALAXY    0.59445\n",
            "STAR      0.21595\n",
            "QSO       0.18960\n",
            "Name: proportion, dtype: float64\n"
          ]
        }
      ]
    },
    {
      "cell_type": "code",
      "source": [
        "# Initialize and train a Random Forest classifier\n",
        "clf = RandomForestClassifier(n_estimators=100, random_state=42)\n",
        "clf.fit(X_train, y_train)\n",
        "\n",
        "# Make predictions\n",
        "y_pred = clf.predict(X_test)\n"
      ],
      "metadata": {
        "id": "tP2V2WGVY4Gz"
      },
      "execution_count": 27,
      "outputs": []
    },
    {
      "cell_type": "code",
      "source": [
        "# Generate classification report\n",
        "print(classification_report(y_test, y_pred))\n"
      ],
      "metadata": {
        "colab": {
          "base_uri": "https://localhost:8080/"
        },
        "id": "jiJxz__OZDbH",
        "outputId": "635b7b80-2c4d-40ee-ce71-36884deb38b8"
      },
      "execution_count": 28,
      "outputs": [
        {
          "output_type": "stream",
          "name": "stdout",
          "text": [
            "              precision    recall  f1-score   support\n",
            "\n",
            "      GALAXY       0.98      0.99      0.98     11889\n",
            "         QSO       0.97      0.93      0.95      3792\n",
            "        STAR       0.99      1.00      1.00      4319\n",
            "\n",
            "    accuracy                           0.98     20000\n",
            "   macro avg       0.98      0.97      0.98     20000\n",
            "weighted avg       0.98      0.98      0.98     20000\n",
            "\n"
          ]
        }
      ]
    },
    {
      "cell_type": "markdown",
      "source": [
        "If precision is low → Model predicts too many false positives.\n",
        "\n",
        "If recall is low → Model misses actual positives.\n",
        "\n",
        "If F1-score is low → Model needs improvement"
      ],
      "metadata": {
        "id": "pvv8-UieaTrE"
      }
    },
    {
      "cell_type": "code",
      "source": [
        "# Generate confusion matrix\n",
        "cm = confusion_matrix(y_test, y_pred)\n",
        "\n",
        "# Plot confusion matrix as heatmap\n",
        "plt.figure(figsize=(6,4))\n",
        "sns.heatmap(cm, annot=True, fmt=\"d\", cmap=\"Blues\", xticklabels=np.unique(y), yticklabels=np.unique(y))\n",
        "plt.xlabel('Predicted Label')\n",
        "plt.ylabel('True Label')\n",
        "plt.title('Confusion Matrix')\n",
        "plt.show()\n"
      ],
      "metadata": {
        "colab": {
          "base_uri": "https://localhost:8080/",
          "height": 410
        },
        "id": "ClarmK7uaW4p",
        "outputId": "7458c94d-4b90-4e28-e2e2-6475e3f25c2d"
      },
      "execution_count": 29,
      "outputs": [
        {
          "output_type": "display_data",
          "data": {
            "text/plain": [
              "<Figure size 600x400 with 2 Axes>"
            ],
            "image/png": "[encoded data removed]"
          },
          "metadata": {}
        }
      ]
    },
    {
      "cell_type": "markdown",
      "source": [
        "Findings from the Classification Report\n",
        "\n",
        "The model has achieved high accuracy (98%), which suggests it performs well on the given dataset. Below are the key observations:\n",
        "\n",
        "Class-wise Performance:\n",
        "\n",
        "GALAXY:\n",
        "Precision: 0.98 (Very few false positives)\n",
        "Recall: 0.99 (Almost all galaxies are correctly classified)\n",
        "F1-score: 0.98 (Good balance between precision & recall)\n",
        "\n",
        "QSO (Quasi-Stellar Objects):\n",
        "Precision: 0.97 (Very few false positives)\n",
        "Recall: 0.93 (Some QSOs are misclassified as other classes)\n",
        "F1-score: 0.95 (Lower than GALAXY and STAR)\n",
        "\n",
        "STAR:\n",
        "Precision: 0.99 (Almost no false positives)\n",
        "Recall: 1.00 (All stars are correctly classified)\n",
        "F1-score: 1.00 (Perfect performance)\n",
        "\n",
        "Class Imbalance Consideration:\n",
        "\n",
        "The dataset is imbalanced with more galaxies (11,889) compared to QSOs (3,792) and stars (4,319).\n",
        "This could explain why QSO has the lowest recall (0.93)—the model might struggle to correctly classify minority classes.\n",
        "\n",
        "Macro vs. Weighted Averages:\n",
        "\n",
        "Macro avg (Unweighted mean): 0.98 precision, 0.97 recall, 0.98 F1-score\n",
        "\n",
        "Weighted avg (Considering class sizes): 0.98 precision, 0.98 recall, 0.98 F1-score\n",
        "\n",
        "Since the macro and weighted scores are similar, the model does not heavily favor the majority class."
      ],
      "metadata": {
        "id": "E0Du7dIza_25"
      }
    },
    {
      "cell_type": "code",
      "source": [
        "# Import necessary libraries\n",
        "import numpy as np\n",
        "import pandas as pd\n",
        "import math\n",
        "from sklearn.model_selection import train_test_split\n",
        "from sklearn.preprocessing import StandardScaler\n",
        "from sklearn.linear_model import Ridge, Lasso\n",
        "from sklearn.metrics import mean_absolute_error, mean_squared_error\n",
        "from sklearn.datasets import fetch_california_housing\n",
        "\n",
        "# Load the California Housing dataset\n",
        "data = fetch_california_housing()\n",
        "df1 = pd.DataFrame(data.data, columns=data.feature_names)\n",
        "df1['Price'] = data.target  # Target variable\n",
        "\n",
        "# Display dataset info\n",
        "print(df1.info())\n",
        "print(df1.describe())\n",
        "\n",
        "# Calculate number of bins using Sturge's rule\n",
        "num_bins = math.ceil(1 + np.log2(len(df1)))\n",
        "\n",
        "# Create price bins for stratification\n",
        "df1['Price_Bin'] = pd.qcut(df1['Price'], q=num_bins, labels=False)\n",
        "\n",
        "# Perform Stratified Splitting\n",
        "X = df1.drop(columns=['Price', 'Price_Bin'])\n",
        "y = df1['Price']\n",
        "\n",
        "X_train, X_test, y_train, y_test = train_test_split(\n",
        "    X, y, test_size=0.2, stratify=df1['Price_Bin'], random_state=42\n",
        ")\n",
        "\n",
        "# Drop the Price_Bin column as it was only for stratification\n",
        "df1.drop(columns=['Price_Bin'], inplace=True)\n",
        "\n",
        "# Standardize features\n",
        "scaler = StandardScaler()\n",
        "X_train_scaled = scaler.fit_transform(X_train)\n",
        "X_test_scaled = scaler.transform(X_test)\n",
        "\n",
        "# Train Ridge Regression\n",
        "ridge_model = Ridge(alpha=1.0)\n",
        "ridge_model.fit(X_train_scaled, y_train)\n",
        "ridge_preds = ridge_model.predict(X_test_scaled)\n",
        "\n",
        "# Train Lasso Regression\n",
        "lasso_model = Lasso(alpha=0.1)\n",
        "lasso_model.fit(X_train_scaled, y_train)\n",
        "lasso_preds = lasso_model.predict(X_test_scaled)\n",
        "\n",
        "# Function to evaluate models\n",
        "def evaluate_model(y_true, y_pred, model_name):\n",
        "    mae = mean_absolute_error(y_true, y_pred)\n",
        "    mse = mean_squared_error(y_true, y_pred)\n",
        "    rmse = np.sqrt(mse)\n",
        "\n",
        "    print(f\"\\n{model_name} Evaluation:\")\n",
        "    print(f\"MAE  = {mae:.4f}\")\n",
        "    print(f\"MSE  = {mse:.4f}\")\n",
        "    print(f\"RMSE = {rmse:.4f}\")\n",
        "\n",
        "    return mae, mse, rmse\n",
        "\n",
        "# Compare Ridge and Lasso\n",
        "ridge_metrics = evaluate_model(y_test, ridge_preds, \"Ridge Regression\")\n",
        "lasso_metrics = evaluate_model(y_test, lasso_preds, \"Lasso Regression\")\n"
      ],
      "metadata": {
        "colab": {
          "base_uri": "https://localhost:8080/"
        },
        "id": "c6xf5fJybIM1",
        "outputId": "9c66c92e-4cbc-435e-96cc-cb1221b7862d"
      },
      "execution_count": 30,
      "outputs": [
        {
          "output_type": "stream",
          "name": "stdout",
          "text": [
            "<class 'pandas.core.frame.DataFrame'>\n",
            "RangeIndex: 20640 entries, 0 to 20639\n",
            "Data columns (total 9 columns):\n",
            " #   Column      Non-Null Count  Dtype  \n",
            "---  ------      --------------  -----  \n",
            " 0   MedInc      20640 non-null  float64\n",
            " 1   HouseAge    20640 non-null  float64\n",
            " 2   AveRooms    20640 non-null  float64\n",
            " 3   AveBedrms   20640 non-null  float64\n",
            " 4   Population  20640 non-null  float64\n",
            " 5   AveOccup    20640 non-null  float64\n",
            " 6   Latitude    20640 non-null  float64\n",
            " 7   Longitude   20640 non-null  float64\n",
            " 8   Price       20640 non-null  float64\n",
            "dtypes: float64(9)\n",
            "memory usage: 1.4 MB\n",
            "None\n",
            "             MedInc      HouseAge      AveRooms     AveBedrms    Population  \\\n",
            "count  20640.000000  20640.000000  20640.000000  20640.000000  20640.000000   \n",
            "mean       3.870671     28.639486      5.429000      1.096675   1425.476744   \n",
            "std        1.899822     12.585558      2.474173      0.473911   1132.462122   \n",
            "min        0.499900      1.000000      0.846154      0.333333      3.000000   \n",
            "25%        2.563400     18.000000      4.440716      1.006079    787.000000   \n",
            "50%        3.534800     29.000000      5.229129      1.048780   1166.000000   \n",
            "75%        4.743250     37.000000      6.052381      1.099526   1725.000000   \n",
            "max       15.000100     52.000000    141.909091     34.066667  35682.000000   \n",
            "\n",
            "           AveOccup      Latitude     Longitude         Price  \n",
            "count  20640.000000  20640.000000  20640.000000  20640.000000  \n",
            "mean       3.070655     35.631861   -119.569704      2.068558  \n",
            "std       10.386050      2.135952      2.003532      1.153956  \n",
            "min        0.692308     32.540000   -124.350000      0.149990  \n",
            "25%        2.429741     33.930000   -121.800000      1.196000  \n",
            "50%        2.818116     34.260000   -118.490000      1.797000  \n",
            "75%        3.282261     37.710000   -118.010000      2.647250  \n",
            "max     1243.333333     41.950000   -114.310000      5.000010  \n",
            "\n",
            "Ridge Regression Evaluation:\n",
            "MAE  = 0.5405\n",
            "MSE  = 0.5397\n",
            "RMSE = 0.7346\n",
            "\n",
            "Lasso Regression Evaluation:\n",
            "MAE  = 0.6254\n",
            "MSE  = 0.6900\n",
            "RMSE = 0.8307\n"
          ]
        }
      ]
    },
    {
      "cell_type": "markdown",
      "source": [
        "Findings from Ridge vs. Lasso Regression :\n",
        "\n",
        "Ridge Regression (Lower Errors )\n",
        "\n",
        "MAE = 0.5405 (Lower, meaning better predictions)\n",
        "MSE = 0.5397 (Lower, meaning fewer large errors)\n",
        "RMSE = 0.7346 (Lower, meaning overall better fit)\n",
        "\n",
        "Lasso Regression (Higher Errors )\n",
        "\n",
        "MAE = 0.6254 (Higher, meaning less accurate predictions)\n",
        "MSE = 0.6900 (Higher, meaning more large errors)\n",
        "RMSE = 0.8307 (Higher, meaning worse overall fit)"
      ],
      "metadata": {
        "id": "b8w7rgVocli4"
      }
    },
    {
      "cell_type": "markdown",
      "source": [
        "Key Observations:\n",
        "\n",
        "1. Ridge performed better than Lasso across all metrics, meaning it preserved useful features while preventing overfitting.\n",
        "\n",
        "2. Lasso had higher errors, likely due to some features being shrunk to zero, losing valuable information.\n",
        "\n",
        "3. If feature selection is important, Lasso is useful despite its higher error. But if we need better accuracy, Ridge is the better choice."
      ],
      "metadata": {
        "id": "hmtALW_-cwSs"
      }
    },
    {
      "cell_type": "code",
      "source": [],
      "metadata": {
        "id": "zr7rdwmCcZH2"
      },
      "execution_count": null,
      "outputs": []
    }
  ]
}
